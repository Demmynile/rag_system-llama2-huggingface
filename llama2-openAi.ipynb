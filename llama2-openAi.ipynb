{
 "cells": [
  {
   "cell_type": "code",
   "execution_count": 34,
   "id": "c55195d3-b323-4573-b852-717c85c2b82e",
   "metadata": {},
   "outputs": [
    {
     "data": {
      "text/plain": [
       "True"
      ]
     },
     "execution_count": 34,
     "metadata": {},
     "output_type": "execute_result"
    }
   ],
   "source": [
    "# Retrieval Augmented generation\n",
    "import os\n",
    "from dotenv import load_dotenv\n",
    "load_dotenv()\n",
    "\n"
   ]
  },
  {
   "cell_type": "code",
   "execution_count": 35,
   "id": "113e196c",
   "metadata": {},
   "outputs": [],
   "source": [
    "# connecting to the environment to load OpenAI kEY\n",
    "os.environ['OPENAPI_API_KEY'] = os.getenv(\"OPENAI_API_KEY\")"
   ]
  },
  {
   "cell_type": "code",
   "execution_count": 36,
   "id": "e0d18ecd",
   "metadata": {},
   "outputs": [],
   "source": [
    "#loading the data using llama index\n",
    "from llama_index.core import VectorStoreIndex,SimpleDirectoryReader\n",
    "documents=SimpleDirectoryReader(\"data\").load_data()\n"
   ]
  },
  {
   "cell_type": "code",
   "execution_count": 37,
   "id": "bfaeee9e",
   "metadata": {},
   "outputs": [
    {
     "data": {
      "text/plain": [
       "[Document(id_='25352775-f790-4248-b645-34260a684531', embedding=None, metadata={'page_label': '1', 'file_name': 'Ademola Balogun(CS).pdf', 'file_path': '/Users/ademola/Documents/data-science/journey_to_be_ml/llms/advanced-rag-system/data/Ademola Balogun(CS).pdf', 'file_type': 'application/pdf', 'file_size': 180811, 'creation_date': '2024-08-09', 'last_modified_date': '2024-08-09'}, excluded_embed_metadata_keys=['file_name', 'file_type', 'file_size', 'creation_date', 'last_modified_date', 'last_accessed_date'], excluded_llm_metadata_keys=['file_name', 'file_type', 'file_size', 'creation_date', 'last_modified_date', 'last_accessed_date'], relationships={}, text=\"Ademola Balogun . \\n      https://port284.netlify.app/  \\n \\n       E-mail: balogun80@gmail.com , Telephone: 07534727523.  \\n \\nProfile:  \\nI am writing to express my interest as a Customer  Service representative  at Erin sweet \\ntreats  with a strong academic background, relevant experience, and a commitment to \\nproviding excellent  customer care service , I am confident in my ability to contribute to the \\nsuccess of your company . \\nEducation:  \\n• Masters in Artificial Intelligence and Data Science  (In Progress ) [University of Hull ], \\n[Hull, East  Riding Yorkshire]  [September  2023 ] - [September  2024 ] \\n• Bachelor's degree in Surveying and Geoinformatics (Completed)  [Federal University \\nof Technology , Akure], [Akure, Nigeria ] [September 2012 ] - [September 20 18] \\nLicensure:  \\n• Registered Member Data Science Nigeria ,  \\n \\nProfessional Experience:  \\n \\nCustomer Care Representative | [Erin sweet Treats], [Tiverton, United Kingdom] | [January \\n2024] - Present  \\n• Serve as the primary point of contact for customers, addressing inquiries, concerns, and \\nfeedback promptly and empathetically.  \\n• Manage orders efficiently, assisting customers in placing orders accurately and ensuring \\ntimely delivery or pickup.  \\n• Provide personalized recommendations to enhance the customer experience.  \\n• Resolve any issues or complaints effectively and in a timely manner.  \\n• Collaborate with other departments such as production and delivery teams to streamline \\nprocesses and optimize customer satisfaction.  \\n• Uphold Erin Sweet Treats' commitment to excellence by ensuring every customer feels \\nvalued and delighted by their experience.  \\n \\n \", mimetype='text/plain', start_char_idx=None, end_char_idx=None, text_template='{metadata_str}\\n\\n{content}', metadata_template='{key}: {value}', metadata_seperator='\\n'),\n",
       " Document(id_='54e8409f-a157-4c91-a87a-387a8ad63b92', embedding=None, metadata={'page_label': '2', 'file_name': 'Ademola Balogun(CS).pdf', 'file_path': '/Users/ademola/Documents/data-science/journey_to_be_ml/llms/advanced-rag-system/data/Ademola Balogun(CS).pdf', 'file_type': 'application/pdf', 'file_size': 180811, 'creation_date': '2024-08-09', 'last_modified_date': '2024-08-09'}, excluded_embed_metadata_keys=['file_name', 'file_type', 'file_size', 'creation_date', 'last_modified_date', 'last_accessed_date'], excluded_llm_metadata_keys=['file_name', 'file_type', 'file_size', 'creation_date', 'last_modified_date', 'last_accessed_date'], relationships={}, text=' \\n \\n Care Worker  | [St George’s House ], [Tiverton, United Kingdom] | [ January  2024] - Present  \\n• Administer prescribed medications according to the care plan.  \\n• Monitor and record medication intake, ensuring compliance with prescribed \\nregimens.  \\n• Regularly assess and monitor the health and well -being of clients.  \\n• Record and report any changes in physical or mental health to appropriate \\nhealthcare professionals.  \\n \\n \\nFrontend Engineer, [Nigeria] | [September 2020] - [September 2023]  \\n• Developing and maintaining the frontend of a JavaScript -based web application \\nusing React.  \\n• Built and maintained an energy payment frontend code base.  \\n• Review and guide junior developers on code quality sessions  \\n• Resolve various production issues.  \\n• Transforming protype designs into responsive frontend designs.  \\n \\nData Science Intern  | [Sterlingtech and Data Sciences] , [Nigeria ] | [April  2020 ] - [August \\n2020]  \\n• Assisted  in developing and implementing machine learning models for predictive \\nanalytics.  \\n• Collaborated with cross -functional teams to analyze  and interpret data for \\nactionable insights.  \\n• Conducted data cleaning, exploratory data analysis, and presented findings to team \\nmembers.  \\n \\nCertifications  \\n• IBM Data Science Professional Certification Coursera: IBM     \\n• Deep Learning Specialization  Coursera: IBM    \\n \\nSkills:  \\n• Compassionate and empathetic attitude  \\n• Excellent communication and interpersonal skills  \\n• Ability to follow instructions and work as part of a team  \\n• Strong organizational and time management skills  ', mimetype='text/plain', start_char_idx=None, end_char_idx=None, text_template='{metadata_str}\\n\\n{content}', metadata_template='{key}: {value}', metadata_seperator='\\n'),\n",
       " Document(id_='f6786d2a-6b01-4fe8-b01b-d822c73a02dd', embedding=None, metadata={'page_label': '3', 'file_name': 'Ademola Balogun(CS).pdf', 'file_path': '/Users/ademola/Documents/data-science/journey_to_be_ml/llms/advanced-rag-system/data/Ademola Balogun(CS).pdf', 'file_type': 'application/pdf', 'file_size': 180811, 'creation_date': '2024-08-09', 'last_modified_date': '2024-08-09'}, excluded_embed_metadata_keys=['file_name', 'file_type', 'file_size', 'creation_date', 'last_modified_date', 'last_accessed_date'], excluded_llm_metadata_keys=['file_name', 'file_type', 'file_size', 'creation_date', 'last_modified_date', 'last_accessed_date'], relationships={}, text='• Patient and understanding demeanor  \\n \\n \\n \\nReferences:  Available upon request.  \\n ', mimetype='text/plain', start_char_idx=None, end_char_idx=None, text_template='{metadata_str}\\n\\n{content}', metadata_template='{key}: {value}', metadata_seperator='\\n'),\n",
       " Document(id_='ced12721-ad8a-4873-a20a-a68f0ab21693', embedding=None, metadata={'page_label': '1', 'file_name': 'Ademola Balogun.pdf', 'file_path': '/Users/ademola/Documents/data-science/journey_to_be_ml/llms/advanced-rag-system/data/Ademola Balogun.pdf', 'file_type': 'application/pdf', 'file_size': 174464, 'creation_date': '2024-08-09', 'last_modified_date': '2024-08-09'}, excluded_embed_metadata_keys=['file_name', 'file_type', 'file_size', 'creation_date', 'last_modified_date', 'last_accessed_date'], excluded_llm_metadata_keys=['file_name', 'file_type', 'file_size', 'creation_date', 'last_modified_date', 'last_accessed_date'], relationships={}, text=\"Ademola Balogun . \\n \\n       E-mail: balogun80@gmail.com , Telephone: 07534727523.  \\n \\nProfile:  \\nI am writing to express my interest as a Potwasher  at Hartnoll Hotels , with a strong \\nacademic background, relevant experience, and a commitment to providing excellent  \\nculinary and cleaning  service , I am confident in my ability to contribute to the success of \\nyour hotel . \\nEducation:  \\n• Masters in Artificial Intelligence and Data Science  (In Progress ) [University of Hull ], \\n[Hull, East  Riding Yorkshire]  [September  2023 ] - [September  2024 ] \\n• Bachelor's degree in surveying and Geoinformatics (Completed)  [Federal University \\nof Technology , Akure], [Akure, Nigeria ] [September 2012 ] - [September 20 18] \\nLicensure:  \\n• Registered Member Data Science Nigeria ,  \\n \\nProfessional Experience:  \\n \\n Care Worker  | [St George’s House ], [Tiverton, United Kingdom] | [ January  2024] - Present  \\n• Administer prescribed medications according to the care plan.  \\n• Monitor and record medication intake, ensuring compliance with prescribed \\nregimens.  \\n• Regularly assess and monitor the health and well -being of clients.  \\n• Record and report any changes in physical or mental health to appropriate \\nhealthcare professionals.  \\n \\nPot Washer | [Erin Sweets Treats], [ Tiverton, United Kingdom] | [ September  2023] - [January  \\n2024] \\n• Maintain a clean and sanitary workspace by regularly cleaning and sanitizing work \\nsurfaces, dish washing equipment and kitchen tools.  \\n \\nFrontend Engineer, [Nigeria] | [September 2020] - [September 2023]  \", mimetype='text/plain', start_char_idx=None, end_char_idx=None, text_template='{metadata_str}\\n\\n{content}', metadata_template='{key}: {value}', metadata_seperator='\\n'),\n",
       " Document(id_='e64ad159-9189-481d-a98c-069b3fdca52c', embedding=None, metadata={'page_label': '2', 'file_name': 'Ademola Balogun.pdf', 'file_path': '/Users/ademola/Documents/data-science/journey_to_be_ml/llms/advanced-rag-system/data/Ademola Balogun.pdf', 'file_type': 'application/pdf', 'file_size': 174464, 'creation_date': '2024-08-09', 'last_modified_date': '2024-08-09'}, excluded_embed_metadata_keys=['file_name', 'file_type', 'file_size', 'creation_date', 'last_modified_date', 'last_accessed_date'], excluded_llm_metadata_keys=['file_name', 'file_type', 'file_size', 'creation_date', 'last_modified_date', 'last_accessed_date'], relationships={}, text='• Developing and maintaining the frontend of a JavaScript -based web application \\nusing React.  \\n• Built and maintained an energy payment frontend code base.  \\n• Review and guide junior developers on code quality sessions  \\n• Resolve various production issues.  \\n• Transforming protype designs into responsive frontend designs.  \\n \\nData Science Intern  | [Sterlingtech and Data Sciences] , [Nigeria ] | [April  2020 ] - [August \\n2020]  \\n• Assisted  in developing and implementing machine learning models for predictive \\nanalytics.  \\n• Collaborated with cross -functional teams to analyze  and interpret data for \\nactionable insights.  \\n• Conducted data cleaning, exploratory data analysis, and presented findings to team \\nmembers.  \\n \\nCertifications  \\n• IBM Data Science Professional Certification Coursera: IBM     \\n• Deep Learning Specialization  Coursera: IBM    \\n \\nSkills:  \\n• Compassionate and empathetic attitude  \\n• Excellent communication and interpersonal skills  \\n• Ability to follow instructions and work as part of a team  \\n• Strong organizational and time management skills  \\n• Patient and understanding demeanor  \\n \\n \\n \\nReferences:  Available upon request.  \\n ', mimetype='text/plain', start_char_idx=None, end_char_idx=None, text_template='{metadata_str}\\n\\n{content}', metadata_template='{key}: {value}', metadata_seperator='\\n')]"
      ]
     },
     "execution_count": 37,
     "metadata": {},
     "output_type": "execute_result"
    }
   ],
   "source": [
    "documents"
   ]
  },
  {
   "cell_type": "code",
   "execution_count": 38,
   "id": "c5c6c35f",
   "metadata": {},
   "outputs": [
    {
     "name": "stderr",
     "output_type": "stream",
     "text": [
      "Parsing nodes: 100%|██████████| 5/5 [00:00<00:00, 1125.56it/s]\n",
      "Generating embeddings: 100%|██████████| 5/5 [00:00<00:00,  9.79it/s]\n"
     ]
    }
   ],
   "source": [
    "#create vector embeddings \n",
    "index = VectorStoreIndex.from_documents(documents , show_progress=True)"
   ]
  },
  {
   "cell_type": "code",
   "execution_count": 39,
   "id": "9fb1410d",
   "metadata": {},
   "outputs": [
    {
     "data": {
      "text/plain": [
       "<llama_index.core.indices.vector_store.base.VectorStoreIndex at 0x13fcad820>"
      ]
     },
     "execution_count": 39,
     "metadata": {},
     "output_type": "execute_result"
    }
   ],
   "source": [
    "index"
   ]
  },
  {
   "cell_type": "code",
   "execution_count": 40,
   "id": "bd550229",
   "metadata": {},
   "outputs": [],
   "source": [
    "# retrieving information from the embeddings\n",
    "query_engine = index.as_query_engine()"
   ]
  },
  {
   "cell_type": "code",
   "execution_count": 50,
   "id": "3cb14fca",
   "metadata": {},
   "outputs": [],
   "source": [
    "from llama_index.core.retrievers import VectorIndexRetriever\n",
    "from llama_index.core.query_engine import RetrieverQueryEngine\n",
    "from llama_index.core.indices.postprocessor import SimilarityPostprocessor\n",
    "\n",
    "retriever = VectorIndexRetriever(index = index , similarity_top_k=4)\n",
    "postProcessor = SimilarityPostprocessor(similarity_cutoff=0.70)\n",
    "\n",
    "query_engine=RetrieverQueryEngine(retriever=retriever ,  node_postprocessors=[postProcessor])\n",
    "\n"
   ]
  },
  {
   "cell_type": "code",
   "execution_count": 51,
   "id": "c9b44b75",
   "metadata": {},
   "outputs": [],
   "source": [
    "#getting response from the retrieval\n",
    "response = query_engine.query(\"What course am i studying\")"
   ]
  },
  {
   "cell_type": "code",
   "execution_count": 52,
   "id": "eab1497d",
   "metadata": {},
   "outputs": [
    {
     "name": "stdout",
     "output_type": "stream",
     "text": [
      "Final Response: Masters in Artificial Intelligence and Data Science\n",
      "______________________________________________________________________\n",
      "Source Node 1/4\n",
      "Node ID: 21c82032-f2c5-409b-99ec-9e71ca41051c\n",
      "Similarity: 0.7659879006956625\n",
      "Text: Care Worker  | [St George’s House ], [Tiverton, United Kingdom]\n",
      "| [ January  2024] - Present   • Administer prescribed medications\n",
      "according to the care plan.   • Monitor and record medication intake,\n",
      "ensuring compliance with prescribed  regimens.   • Regularly assess\n",
      "and monitor the health and well -being of clients.   • Record and\n",
      "report any c...\n",
      "______________________________________________________________________\n",
      "Source Node 2/4\n",
      "Node ID: 5696a16d-520f-41fc-930c-5a5d904f313e\n",
      "Similarity: 0.7568035197367267\n",
      "Text: • Developing and maintaining the frontend of a JavaScript -based\n",
      "web application  using React.   • Built and maintained an energy\n",
      "payment frontend code base.   • Review and guide junior developers on\n",
      "code quality sessions   • Resolve various production issues.   •\n",
      "Transforming protype designs into responsive frontend designs.\n",
      "Data Science In...\n",
      "______________________________________________________________________\n",
      "Source Node 3/4\n",
      "Node ID: f3cb21b6-e337-4fb7-94c3-60bf21ee5844\n",
      "Similarity: 0.7563913827054491\n",
      "Text: • Patient and understanding demeanor         References:\n",
      "Available upon request.\n",
      "______________________________________________________________________\n",
      "Source Node 4/4\n",
      "Node ID: 8b0a05c7-d100-4edf-b26c-2097ef8fceae\n",
      "Similarity: 0.7541702021290624\n",
      "Text: Ademola Balogun .           E-mail: balogun80@gmail.com ,\n",
      "Telephone: 07534727523.     Profile:   I am writing to express my\n",
      "interest as a Potwasher  at Hartnoll Hotels , with a strong  academic\n",
      "background, relevant experience, and a commitment to providing\n",
      "excellent   culinary and cleaning  service , I am confident in my\n",
      "ability to contribute to...\n",
      "Masters in Artificial Intelligence and Data Science\n"
     ]
    }
   ],
   "source": [
    "from llama_index.core.response.pprint_utils import pprint_response\n",
    "pprint_response(response , show_source=True)\n",
    "print(response)"
   ]
  },
  {
   "cell_type": "code",
   "execution_count": 53,
   "id": "fa397c67",
   "metadata": {},
   "outputs": [
    {
     "name": "stdout",
     "output_type": "stream",
     "text": [
      "Masters in Artificial Intelligence and Data Science\n"
     ]
    }
   ],
   "source": [
    "print(response)"
   ]
  },
  {
   "cell_type": "code",
   "execution_count": 54,
   "id": "95de7ae7",
   "metadata": {},
   "outputs": [
    {
     "name": "stdout",
     "output_type": "stream",
     "text": [
      "Transformers are devices used to convert electrical energy from one voltage level to another. They work based on the principle of electromagnetic induction and are commonly used in various electrical systems to step up or step down voltages as needed.\n"
     ]
    }
   ],
   "source": [
    "import os\n",
    "from llama_index.core import (\n",
    "    VectorStoreIndex,\n",
    "    SimpleDirectoryReader,\n",
    "    StorageContext,\n",
    "    load_index_from_storage\n",
    ")\n",
    "\n",
    "PERSIST_DIR = \"./storage\"\n",
    "if not os.path.exists(PERSIST_DIR):\n",
    "    #load the documents\n",
    "    documents = SimpleDirectoryReader(\"data\").load_data()\n",
    "    index = VectorStoreIndex.from_documents(documents)\n",
    "    # store it for later\n",
    "    index.storage_context.persist(persist_dir=PERSIST_DIR)\n",
    "else:\n",
    "    # load the existing index\n",
    "    storage_context = StorageContext.from_defaults(persist_dir = PERSIST_DIR)\n",
    "    index = load_index_from_storage(storage_context)\n",
    "\n",
    "query_engine = index.as_query_engine()\n",
    "response =  query_engine.query(\"What are transformers?\")\n",
    "print(response)"
   ]
  },
  {
   "cell_type": "code",
   "execution_count": null,
   "id": "687d1765",
   "metadata": {},
   "outputs": [],
   "source": []
  }
 ],
 "metadata": {
  "kernelspec": {
   "display_name": "Python 3 (ipykernel)",
   "language": "python",
   "name": "python3"
  },
  "language_info": {
   "codemirror_mode": {
    "name": "ipython",
    "version": 3
   },
   "file_extension": ".py",
   "mimetype": "text/x-python",
   "name": "python",
   "nbconvert_exporter": "python",
   "pygments_lexer": "ipython3",
   "version": "3.12.3"
  }
 },
 "nbformat": 4,
 "nbformat_minor": 5
}
