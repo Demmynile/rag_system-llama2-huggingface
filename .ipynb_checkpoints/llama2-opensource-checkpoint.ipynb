{
 "cells": [
  {
   "cell_type": "code",
   "execution_count": 1,
   "metadata": {},
   "outputs": [
    {
     "name": "stderr",
     "output_type": "stream",
     "text": [
      "/Users/ademola/Documents/data-science/journey_to_be_ml/llms/advanced-rag-system/venv/lib/python3.12/site-packages/tqdm/auto.py:21: TqdmWarning: IProgress not found. Please update jupyter and ipywidgets. See https://ipywidgets.readthedocs.io/en/stable/user_install.html\n",
      "  from .autonotebook import tqdm as notebook_tqdm\n",
      "/Users/ademola/Documents/data-science/journey_to_be_ml/llms/advanced-rag-system/venv/lib/python3.12/site-packages/pydantic/_internal/_fields.py:161: UserWarning: Field \"model_id\" has conflict with protected namespace \"model_\".\n",
      "\n",
      "You may be able to resolve this warning by setting `model_config['protected_namespaces'] = ()`.\n",
      "  warnings.warn(\n"
     ]
    }
   ],
   "source": [
    "from llama_index.core import VectorStoreIndex , SimpleDirectoryReader , ServiceContext\n",
    "from llama_index.llms.huggingface import HuggingFaceLLM\n",
    "from llama_index.core.prompts.prompts import SimpleInputPrompt\n",
    "\n",
    "\n",
    "import warnings\n",
    "\n",
    "warnings.filterwarnings(\"ignore\")"
   ]
  },
  {
   "cell_type": "code",
   "execution_count": 2,
   "metadata": {},
   "outputs": [
    {
     "data": {
      "text/plain": [
       "[Document(id_='3f355a12-f3ad-4f48-833c-7c557254bcad', embedding=None, metadata={'page_label': '1', 'file_name': 'Ademola Balogun(CS).pdf', 'file_path': '/Users/ademola/Documents/data-science/journey_to_be_ml/llms/advanced-rag-system/data/Ademola Balogun(CS).pdf', 'file_type': 'application/pdf', 'file_size': 180811, 'creation_date': '2024-08-09', 'last_modified_date': '2024-08-09'}, excluded_embed_metadata_keys=['file_name', 'file_type', 'file_size', 'creation_date', 'last_modified_date', 'last_accessed_date'], excluded_llm_metadata_keys=['file_name', 'file_type', 'file_size', 'creation_date', 'last_modified_date', 'last_accessed_date'], relationships={}, text=\"Ademola Balogun . \\n      https://port284.netlify.app/  \\n \\n       E-mail: balogun80@gmail.com , Telephone: 07534727523.  \\n \\nProfile:  \\nI am writing to express my interest as a Customer  Service representative  at Erin sweet \\ntreats  with a strong academic background, relevant experience, and a commitment to \\nproviding excellent  customer care service , I am confident in my ability to contribute to the \\nsuccess of your company . \\nEducation:  \\n• Masters in Artificial Intelligence and Data Science  (In Progress ) [University of Hull ], \\n[Hull, East  Riding Yorkshire]  [September  2023 ] - [September  2024 ] \\n• Bachelor's degree in Surveying and Geoinformatics (Completed)  [Federal University \\nof Technology , Akure], [Akure, Nigeria ] [September 2012 ] - [September 20 18] \\nLicensure:  \\n• Registered Member Data Science Nigeria ,  \\n \\nProfessional Experience:  \\n \\nCustomer Care Representative | [Erin sweet Treats], [Tiverton, United Kingdom] | [January \\n2024] - Present  \\n• Serve as the primary point of contact for customers, addressing inquiries, concerns, and \\nfeedback promptly and empathetically.  \\n• Manage orders efficiently, assisting customers in placing orders accurately and ensuring \\ntimely delivery or pickup.  \\n• Provide personalized recommendations to enhance the customer experience.  \\n• Resolve any issues or complaints effectively and in a timely manner.  \\n• Collaborate with other departments such as production and delivery teams to streamline \\nprocesses and optimize customer satisfaction.  \\n• Uphold Erin Sweet Treats' commitment to excellence by ensuring every customer feels \\nvalued and delighted by their experience.  \\n \\n \", mimetype='text/plain', start_char_idx=None, end_char_idx=None, text_template='{metadata_str}\\n\\n{content}', metadata_template='{key}: {value}', metadata_seperator='\\n'),\n",
       " Document(id_='35c53c1c-19aa-42f8-b12b-6f66971e62dd', embedding=None, metadata={'page_label': '2', 'file_name': 'Ademola Balogun(CS).pdf', 'file_path': '/Users/ademola/Documents/data-science/journey_to_be_ml/llms/advanced-rag-system/data/Ademola Balogun(CS).pdf', 'file_type': 'application/pdf', 'file_size': 180811, 'creation_date': '2024-08-09', 'last_modified_date': '2024-08-09'}, excluded_embed_metadata_keys=['file_name', 'file_type', 'file_size', 'creation_date', 'last_modified_date', 'last_accessed_date'], excluded_llm_metadata_keys=['file_name', 'file_type', 'file_size', 'creation_date', 'last_modified_date', 'last_accessed_date'], relationships={}, text=' \\n \\n Care Worker  | [St George’s House ], [Tiverton, United Kingdom] | [ January  2024] - Present  \\n• Administer prescribed medications according to the care plan.  \\n• Monitor and record medication intake, ensuring compliance with prescribed \\nregimens.  \\n• Regularly assess and monitor the health and well -being of clients.  \\n• Record and report any changes in physical or mental health to appropriate \\nhealthcare professionals.  \\n \\n \\nFrontend Engineer, [Nigeria] | [September 2020] - [September 2023]  \\n• Developing and maintaining the frontend of a JavaScript -based web application \\nusing React.  \\n• Built and maintained an energy payment frontend code base.  \\n• Review and guide junior developers on code quality sessions  \\n• Resolve various production issues.  \\n• Transforming protype designs into responsive frontend designs.  \\n \\nData Science Intern  | [Sterlingtech and Data Sciences] , [Nigeria ] | [April  2020 ] - [August \\n2020]  \\n• Assisted  in developing and implementing machine learning models for predictive \\nanalytics.  \\n• Collaborated with cross -functional teams to analyze  and interpret data for \\nactionable insights.  \\n• Conducted data cleaning, exploratory data analysis, and presented findings to team \\nmembers.  \\n \\nCertifications  \\n• IBM Data Science Professional Certification Coursera: IBM     \\n• Deep Learning Specialization  Coursera: IBM    \\n \\nSkills:  \\n• Compassionate and empathetic attitude  \\n• Excellent communication and interpersonal skills  \\n• Ability to follow instructions and work as part of a team  \\n• Strong organizational and time management skills  ', mimetype='text/plain', start_char_idx=None, end_char_idx=None, text_template='{metadata_str}\\n\\n{content}', metadata_template='{key}: {value}', metadata_seperator='\\n'),\n",
       " Document(id_='8d45ccff-a936-4bdd-bf8a-0ca45eb73d5e', embedding=None, metadata={'page_label': '3', 'file_name': 'Ademola Balogun(CS).pdf', 'file_path': '/Users/ademola/Documents/data-science/journey_to_be_ml/llms/advanced-rag-system/data/Ademola Balogun(CS).pdf', 'file_type': 'application/pdf', 'file_size': 180811, 'creation_date': '2024-08-09', 'last_modified_date': '2024-08-09'}, excluded_embed_metadata_keys=['file_name', 'file_type', 'file_size', 'creation_date', 'last_modified_date', 'last_accessed_date'], excluded_llm_metadata_keys=['file_name', 'file_type', 'file_size', 'creation_date', 'last_modified_date', 'last_accessed_date'], relationships={}, text='• Patient and understanding demeanor  \\n \\n \\n \\nReferences:  Available upon request.  \\n ', mimetype='text/plain', start_char_idx=None, end_char_idx=None, text_template='{metadata_str}\\n\\n{content}', metadata_template='{key}: {value}', metadata_seperator='\\n'),\n",
       " Document(id_='cab2de35-f00f-4355-8bf1-c8deddcab2a0', embedding=None, metadata={'page_label': '1', 'file_name': 'Ademola Balogun.pdf', 'file_path': '/Users/ademola/Documents/data-science/journey_to_be_ml/llms/advanced-rag-system/data/Ademola Balogun.pdf', 'file_type': 'application/pdf', 'file_size': 174464, 'creation_date': '2024-08-09', 'last_modified_date': '2024-08-09'}, excluded_embed_metadata_keys=['file_name', 'file_type', 'file_size', 'creation_date', 'last_modified_date', 'last_accessed_date'], excluded_llm_metadata_keys=['file_name', 'file_type', 'file_size', 'creation_date', 'last_modified_date', 'last_accessed_date'], relationships={}, text=\"Ademola Balogun . \\n \\n       E-mail: balogun80@gmail.com , Telephone: 07534727523.  \\n \\nProfile:  \\nI am writing to express my interest as a Potwasher  at Hartnoll Hotels , with a strong \\nacademic background, relevant experience, and a commitment to providing excellent  \\nculinary and cleaning  service , I am confident in my ability to contribute to the success of \\nyour hotel . \\nEducation:  \\n• Masters in Artificial Intelligence and Data Science  (In Progress ) [University of Hull ], \\n[Hull, East  Riding Yorkshire]  [September  2023 ] - [September  2024 ] \\n• Bachelor's degree in surveying and Geoinformatics (Completed)  [Federal University \\nof Technology , Akure], [Akure, Nigeria ] [September 2012 ] - [September 20 18] \\nLicensure:  \\n• Registered Member Data Science Nigeria ,  \\n \\nProfessional Experience:  \\n \\n Care Worker  | [St George’s House ], [Tiverton, United Kingdom] | [ January  2024] - Present  \\n• Administer prescribed medications according to the care plan.  \\n• Monitor and record medication intake, ensuring compliance with prescribed \\nregimens.  \\n• Regularly assess and monitor the health and well -being of clients.  \\n• Record and report any changes in physical or mental health to appropriate \\nhealthcare professionals.  \\n \\nPot Washer | [Erin Sweets Treats], [ Tiverton, United Kingdom] | [ September  2023] - [January  \\n2024] \\n• Maintain a clean and sanitary workspace by regularly cleaning and sanitizing work \\nsurfaces, dish washing equipment and kitchen tools.  \\n \\nFrontend Engineer, [Nigeria] | [September 2020] - [September 2023]  \", mimetype='text/plain', start_char_idx=None, end_char_idx=None, text_template='{metadata_str}\\n\\n{content}', metadata_template='{key}: {value}', metadata_seperator='\\n'),\n",
       " Document(id_='e2bfd423-cb1d-4728-8679-b806c7fd5583', embedding=None, metadata={'page_label': '2', 'file_name': 'Ademola Balogun.pdf', 'file_path': '/Users/ademola/Documents/data-science/journey_to_be_ml/llms/advanced-rag-system/data/Ademola Balogun.pdf', 'file_type': 'application/pdf', 'file_size': 174464, 'creation_date': '2024-08-09', 'last_modified_date': '2024-08-09'}, excluded_embed_metadata_keys=['file_name', 'file_type', 'file_size', 'creation_date', 'last_modified_date', 'last_accessed_date'], excluded_llm_metadata_keys=['file_name', 'file_type', 'file_size', 'creation_date', 'last_modified_date', 'last_accessed_date'], relationships={}, text='• Developing and maintaining the frontend of a JavaScript -based web application \\nusing React.  \\n• Built and maintained an energy payment frontend code base.  \\n• Review and guide junior developers on code quality sessions  \\n• Resolve various production issues.  \\n• Transforming protype designs into responsive frontend designs.  \\n \\nData Science Intern  | [Sterlingtech and Data Sciences] , [Nigeria ] | [April  2020 ] - [August \\n2020]  \\n• Assisted  in developing and implementing machine learning models for predictive \\nanalytics.  \\n• Collaborated with cross -functional teams to analyze  and interpret data for \\nactionable insights.  \\n• Conducted data cleaning, exploratory data analysis, and presented findings to team \\nmembers.  \\n \\nCertifications  \\n• IBM Data Science Professional Certification Coursera: IBM     \\n• Deep Learning Specialization  Coursera: IBM    \\n \\nSkills:  \\n• Compassionate and empathetic attitude  \\n• Excellent communication and interpersonal skills  \\n• Ability to follow instructions and work as part of a team  \\n• Strong organizational and time management skills  \\n• Patient and understanding demeanor  \\n \\n \\n \\nReferences:  Available upon request.  \\n ', mimetype='text/plain', start_char_idx=None, end_char_idx=None, text_template='{metadata_str}\\n\\n{content}', metadata_template='{key}: {value}', metadata_seperator='\\n')]"
      ]
     },
     "execution_count": 2,
     "metadata": {},
     "output_type": "execute_result"
    }
   ],
   "source": [
    "documents = SimpleDirectoryReader(\"./data\")\n",
    "documents.load_data()"
   ]
  },
  {
   "cell_type": "code",
   "execution_count": null,
   "metadata": {},
   "outputs": [
    {
     "data": {
      "text/plain": [
       "PromptTemplate(metadata={'prompt_type': <PromptType.CUSTOM: 'custom'>}, template_vars=['query_str'], kwargs={}, output_parser=None, template_var_mappings=None, function_mappings=None, template='<|USER|>{query_str}<|ASSISTANT|>')"
      ]
     },
     "execution_count": 3,
     "metadata": {},
     "output_type": "execute_result"
    }
   ],
   "source": [
    "system_prompt=\"\"\"\n",
    "You are a Q&A assistant. Your goal is to answer questions as accurately as possible based on the instructiond and context provided\n",
    "\n",
    "\"\"\"\n",
    "\n",
    "#  default format supportable by LLama2\n",
    "query_wrapper_prompt= SimpleInputPrompt(\"<|USER|>{query_str}<|ASSISTANT|>\")"
   ]
  },
  {
   "cell_type": "code",
   "execution_count": 6,
   "metadata": {},
   "outputs": [
    {
     "name": "stdout",
     "output_type": "stream",
     "text": [
      "\n",
      "    _|    _|  _|    _|    _|_|_|    _|_|_|  _|_|_|  _|      _|    _|_|_|      _|_|_|_|    _|_|      _|_|_|  _|_|_|_|\n",
      "    _|    _|  _|    _|  _|        _|          _|    _|_|    _|  _|            _|        _|    _|  _|        _|\n",
      "    _|_|_|_|  _|    _|  _|  _|_|  _|  _|_|    _|    _|  _|  _|  _|  _|_|      _|_|_|    _|_|_|_|  _|        _|_|_|\n",
      "    _|    _|  _|    _|  _|    _|  _|    _|    _|    _|    _|_|  _|    _|      _|        _|    _|  _|        _|\n",
      "    _|    _|    _|_|      _|_|_|    _|_|_|  _|_|_|  _|      _|    _|_|_|      _|        _|    _|    _|_|_|  _|_|_|_|\n",
      "\n",
      "    To login, `huggingface_hub` requires a token generated from https://huggingface.co/settings/tokens .\n",
      "Enter your token (input will not be visible): "
     ]
    }
   ],
   "source": [
    "!huggingface-cli login"
   ]
  },
  {
   "cell_type": "code",
   "execution_count": null,
   "metadata": {},
   "outputs": [],
   "source": [
    "import touch\n",
    "\n",
    "llm = HuggingFaceLLM(\n",
    "    context_window=4096,\n",
    "    max_new_tokens=256,\n",
    "    generate_kwargs={\"temperature\":0.0 , \"do_sample\":False},\n",
    "    system_prompt=system_prompt,\n",
    "    query_wrapper_prompt=query_wrapper_prompt,\n",
    "    tokenizer_name=\"meta-llama/llama-2-7b-chat-hf\",\n",
    "    model_name=\"meta-llama/Llama-2-7b-chat-hf\",\n",
    "    device_map=\"auto\",\n",
    "    model_kwargs={\"touch_dtype\": touch.float16, \"load_in_8bit\": True}\n",
    "\n",
    ")"
   ]
  },
  {
   "cell_type": "code",
   "execution_count": null,
   "metadata": {},
   "outputs": [],
   "source": []
  }
 ],
 "metadata": {
  "kernelspec": {
   "display_name": "venv",
   "language": "python",
   "name": "python3"
  },
  "language_info": {
   "codemirror_mode": {
    "name": "ipython",
    "version": 3
   },
   "file_extension": ".py",
   "mimetype": "text/x-python",
   "name": "python",
   "nbconvert_exporter": "python",
   "pygments_lexer": "ipython3",
   "version": "3.12.3"
  }
 },
 "nbformat": 4,
 "nbformat_minor": 2
}
